{
  "nbformat": 4,
  "nbformat_minor": 0,
  "metadata": {
    "colab": {
      "provenance": [],
      "authorship_tag": "ABX9TyOB/MC7iL/Bnivw1GmCscb5",
      "include_colab_link": true
    },
    "kernelspec": {
      "name": "python3",
      "display_name": "Python 3"
    },
    "language_info": {
      "name": "python"
    }
  },
  "cells": [
    {
      "cell_type": "markdown",
      "metadata": {
        "id": "view-in-github",
        "colab_type": "text"
      },
      "source": [
        "<a href=\"https://colab.research.google.com/github/NiloofarSoltani-2/Smart-Water-Management/blob/main/smart_water_management.ipynb\" target=\"_parent\"><img src=\"https://colab.research.google.com/assets/colab-badge.svg\" alt=\"Open In Colab\"/></a>"
      ]
    },
    {
      "cell_type": "code",
      "source": [
        "import pandas as pd"
      ],
      "metadata": {
        "id": "hmhk-0clKTDZ"
      },
      "execution_count": null,
      "outputs": []
    },
    {
      "cell_type": "code",
      "execution_count": null,
      "metadata": {
        "colab": {
          "base_uri": "https://localhost:8080/"
        },
        "id": "9Gb06Dq9HHEp",
        "outputId": "12509dab-76a8-47e4-c620-676643a77cfc"
      },
      "outputs": [
        {
          "output_type": "execute_result",
          "data": {
            "text/plain": [
              "(8154, 6)"
            ]
          },
          "metadata": {},
          "execution_count": 3
        }
      ],
      "source": [
        "df = pd.read_csv('/content/sample_data/aquifers_fe.csv')\n",
        "df.shape"
      ]
    },
    {
      "cell_type": "code",
      "source": [
        "df.columns = df.columns.str.lower()\n",
        "\n",
        "df['date'] = pd.to_datetime(df['date'])\n",
        "\n",
        "df.set_index('date', inplace=True)"
      ],
      "metadata": {
        "id": "QBV1-LolKkHJ"
      },
      "execution_count": null,
      "outputs": []
    },
    {
      "cell_type": "code",
      "source": [
        "print (df.head())"
      ],
      "metadata": {
        "colab": {
          "base_uri": "https://localhost:8080/"
        },
        "id": "LtU3MKXZLR25",
        "outputId": "5776f89a-1df2-43a0-cc87-f0dab511bb8b"
      },
      "execution_count": null,
      "outputs": [
        {
          "output_type": "stream",
          "name": "stdout",
          "text": [
            "            mean_rainfall  mean_temp  actual_depth  actual_volume  \\\n",
            "date                                                                \n",
            "1998-01-04       0.415556     6.6250      -6.08026   -8019.271158   \n",
            "1998-01-05       2.054444     6.0750      -6.06452   -7956.571285   \n",
            "1998-01-06       0.921111     9.0875      -6.15706   -7715.808854   \n",
            "1998-01-07       0.878889    12.3250      -6.10774   -7731.378766   \n",
            "1998-01-08       0.908889    12.6500      -6.05310   -7812.676449   \n",
            "\n",
            "            actual_hydrometry  \n",
            "date                           \n",
            "1998-01-04          -0.083056  \n",
            "1998-01-05          -0.104167  \n",
            "1998-01-06           0.011944  \n",
            "1998-01-07          -0.008611  \n",
            "1998-01-08          -0.072222  \n"
          ]
        }
      ]
    },
    {
      "cell_type": "code",
      "source": [
        "df. columns"
      ],
      "metadata": {
        "colab": {
          "base_uri": "https://localhost:8080/"
        },
        "id": "8om1B5sDW2xx",
        "outputId": "3b7f65e4-adb1-4163-aab7-933568666355"
      },
      "execution_count": null,
      "outputs": [
        {
          "output_type": "execute_result",
          "data": {
            "text/plain": [
              "Index(['mean_rainfall', 'mean_temp', 'actual_depth', 'actual_volume',\n",
              "       'actual_hydrometry'],\n",
              "      dtype='object')"
            ]
          },
          "metadata": {},
          "execution_count": 16
        }
      ]
    },
    {
      "cell_type": "code",
      "source": [
        "df.isnull().sum()"
      ],
      "metadata": {
        "colab": {
          "base_uri": "https://localhost:8080/",
          "height": 241
        },
        "id": "v9po1sMgLTJc",
        "outputId": "68133712-f813-45e1-a281-9661c0d90244"
      },
      "execution_count": null,
      "outputs": [
        {
          "output_type": "execute_result",
          "data": {
            "text/plain": [
              "mean_rainfall        0\n",
              "mean_temp            0\n",
              "actual_depth         0\n",
              "actual_volume        0\n",
              "actual_hydrometry    0\n",
              "dtype: int64"
            ],
            "text/html": [
              "<div>\n",
              "<style scoped>\n",
              "    .dataframe tbody tr th:only-of-type {\n",
              "        vertical-align: middle;\n",
              "    }\n",
              "\n",
              "    .dataframe tbody tr th {\n",
              "        vertical-align: top;\n",
              "    }\n",
              "\n",
              "    .dataframe thead th {\n",
              "        text-align: right;\n",
              "    }\n",
              "</style>\n",
              "<table border=\"1\" class=\"dataframe\">\n",
              "  <thead>\n",
              "    <tr style=\"text-align: right;\">\n",
              "      <th></th>\n",
              "      <th>0</th>\n",
              "    </tr>\n",
              "  </thead>\n",
              "  <tbody>\n",
              "    <tr>\n",
              "      <th>mean_rainfall</th>\n",
              "      <td>0</td>\n",
              "    </tr>\n",
              "    <tr>\n",
              "      <th>mean_temp</th>\n",
              "      <td>0</td>\n",
              "    </tr>\n",
              "    <tr>\n",
              "      <th>actual_depth</th>\n",
              "      <td>0</td>\n",
              "    </tr>\n",
              "    <tr>\n",
              "      <th>actual_volume</th>\n",
              "      <td>0</td>\n",
              "    </tr>\n",
              "    <tr>\n",
              "      <th>actual_hydrometry</th>\n",
              "      <td>0</td>\n",
              "    </tr>\n",
              "  </tbody>\n",
              "</table>\n",
              "</div><br><label><b>dtype:</b> int64</label>"
            ]
          },
          "metadata": {},
          "execution_count": 15
        }
      ]
    },
    {
      "cell_type": "code",
      "source": [],
      "metadata": {
        "id": "tUO-LnPCMFrL"
      },
      "execution_count": null,
      "outputs": []
    }
  ]
}