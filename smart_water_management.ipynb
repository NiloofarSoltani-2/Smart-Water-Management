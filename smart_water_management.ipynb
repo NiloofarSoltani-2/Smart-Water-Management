{
  "nbformat": 4,
  "nbformat_minor": 0,
  "metadata": {
    "colab": {
      "provenance": [],
      "authorship_tag": "ABX9TyPo1gkc63UlrLw6WGo5WGjr",
      "include_colab_link": true
    },
    "kernelspec": {
      "name": "python3",
      "display_name": "Python 3"
    },
    "language_info": {
      "name": "python"
    }
  },
  "cells": [
    {
      "cell_type": "markdown",
      "metadata": {
        "id": "view-in-github",
        "colab_type": "text"
      },
      "source": [
        "<a href=\"https://colab.research.google.com/github/NiloofarSoltani-2/Smart-Water-Management/blob/main/smart_water_management.ipynb\" target=\"_parent\"><img src=\"https://colab.research.google.com/assets/colab-badge.svg\" alt=\"Open In Colab\"/></a>"
      ]
    },
    {
      "cell_type": "code",
      "source": [
        "import pandas as pd\n",
        "import matplotlib.pyplot as plt"
      ],
      "metadata": {
        "id": "hmhk-0clKTDZ"
      },
      "execution_count": 11,
      "outputs": []
    },
    {
      "cell_type": "markdown",
      "source": [
        "# Introduction"
      ],
      "metadata": {
        "id": "_Hm0k7mNNOoV"
      }
    },
    {
      "cell_type": "markdown",
      "source": [
        "## Data Structure"
      ],
      "metadata": {
        "id": "D1_3JfogNZ3W"
      }
    },
    {
      "cell_type": "code",
      "execution_count": 14,
      "metadata": {
        "colab": {
          "base_uri": "https://localhost:8080/"
        },
        "id": "9Gb06Dq9HHEp",
        "outputId": "0f07592d-90f0-4020-97b0-70b6a4cf51b0"
      },
      "outputs": [
        {
          "output_type": "execute_result",
          "data": {
            "text/plain": [
              "(8154, 6)"
            ]
          },
          "metadata": {},
          "execution_count": 14
        }
      ],
      "source": [
        "df = pd.read_csv('/content/sample_data/aquifers_fe.csv')\n",
        "df.shape"
      ]
    },
    {
      "cell_type": "code",
      "source": [
        "print (df.head())"
      ],
      "metadata": {
        "colab": {
          "base_uri": "https://localhost:8080/"
        },
        "id": "LtU3MKXZLR25",
        "outputId": "03caa1c3-c9fd-4acd-8d85-3f7473469ac2"
      },
      "execution_count": 15,
      "outputs": [
        {
          "output_type": "stream",
          "name": "stdout",
          "text": [
            "   Mean_Rainfall  Mean_Temp  Actual_Depth  Actual_Volume  Actual_Hydrometry  \\\n",
            "0       0.415556     6.6250      -6.08026   -8019.271158          -0.083056   \n",
            "1       2.054444     6.0750      -6.06452   -7956.571285          -0.104167   \n",
            "2       0.921111     9.0875      -6.15706   -7715.808854           0.011944   \n",
            "3       0.878889    12.3250      -6.10774   -7731.378766          -0.008611   \n",
            "4       0.908889    12.6500      -6.05310   -7812.676449          -0.072222   \n",
            "\n",
            "         Date  \n",
            "0  1998-01-04  \n",
            "1  1998-01-05  \n",
            "2  1998-01-06  \n",
            "3  1998-01-07  \n",
            "4  1998-01-08  \n"
          ]
        }
      ]
    },
    {
      "cell_type": "code",
      "source": [
        "df. columns"
      ],
      "metadata": {
        "colab": {
          "base_uri": "https://localhost:8080/"
        },
        "id": "8om1B5sDW2xx",
        "outputId": "7275f9f3-e22a-49af-e711-842a41b0d2c4"
      },
      "execution_count": 16,
      "outputs": [
        {
          "output_type": "execute_result",
          "data": {
            "text/plain": [
              "Index(['Mean_Rainfall', 'Mean_Temp', 'Actual_Depth', 'Actual_Volume',\n",
              "       'Actual_Hydrometry', 'Date'],\n",
              "      dtype='object')"
            ]
          },
          "metadata": {},
          "execution_count": 16
        }
      ]
    },
    {
      "cell_type": "code",
      "source": [
        "df.isnull().sum()"
      ],
      "metadata": {
        "colab": {
          "base_uri": "https://localhost:8080/",
          "height": 272
        },
        "id": "v9po1sMgLTJc",
        "outputId": "1b5865bb-6cf8-4f1e-e692-a24c21f46ccf"
      },
      "execution_count": 17,
      "outputs": [
        {
          "output_type": "execute_result",
          "data": {
            "text/plain": [
              "Mean_Rainfall        0\n",
              "Mean_Temp            0\n",
              "Actual_Depth         0\n",
              "Actual_Volume        0\n",
              "Actual_Hydrometry    0\n",
              "Date                 0\n",
              "dtype: int64"
            ],
            "text/html": [
              "<div>\n",
              "<style scoped>\n",
              "    .dataframe tbody tr th:only-of-type {\n",
              "        vertical-align: middle;\n",
              "    }\n",
              "\n",
              "    .dataframe tbody tr th {\n",
              "        vertical-align: top;\n",
              "    }\n",
              "\n",
              "    .dataframe thead th {\n",
              "        text-align: right;\n",
              "    }\n",
              "</style>\n",
              "<table border=\"1\" class=\"dataframe\">\n",
              "  <thead>\n",
              "    <tr style=\"text-align: right;\">\n",
              "      <th></th>\n",
              "      <th>0</th>\n",
              "    </tr>\n",
              "  </thead>\n",
              "  <tbody>\n",
              "    <tr>\n",
              "      <th>Mean_Rainfall</th>\n",
              "      <td>0</td>\n",
              "    </tr>\n",
              "    <tr>\n",
              "      <th>Mean_Temp</th>\n",
              "      <td>0</td>\n",
              "    </tr>\n",
              "    <tr>\n",
              "      <th>Actual_Depth</th>\n",
              "      <td>0</td>\n",
              "    </tr>\n",
              "    <tr>\n",
              "      <th>Actual_Volume</th>\n",
              "      <td>0</td>\n",
              "    </tr>\n",
              "    <tr>\n",
              "      <th>Actual_Hydrometry</th>\n",
              "      <td>0</td>\n",
              "    </tr>\n",
              "    <tr>\n",
              "      <th>Date</th>\n",
              "      <td>0</td>\n",
              "    </tr>\n",
              "  </tbody>\n",
              "</table>\n",
              "</div><br><label><b>dtype:</b> int64</label>"
            ]
          },
          "metadata": {},
          "execution_count": 17
        }
      ]
    },
    {
      "cell_type": "markdown",
      "source": [
        "## Cleaning\n",
        "\n",
        "\n",
        "*   Missing Values = 0\n",
        "*   Duplicate Values = 0\n",
        "*   Convert Date Format (Indexing)\n",
        "*   Time Frequency Consistency\n",
        "\n"
      ],
      "metadata": {
        "id": "LL_J4FIoN3hY"
      }
    },
    {
      "cell_type": "code",
      "source": [
        "df.columns = df.columns.str.lower()\n",
        "df['date'] = pd.to_datetime(df['date'])\n",
        "df.set_index('date', inplace=True)"
      ],
      "metadata": {
        "id": "QBV1-LolKkHJ"
      },
      "execution_count": 18,
      "outputs": []
    },
    {
      "cell_type": "code",
      "source": [
        "df. columns"
      ],
      "metadata": {
        "colab": {
          "base_uri": "https://localhost:8080/"
        },
        "id": "St7Cxay5Qwsr",
        "outputId": "ae927eb0-05f0-4c67-f068-6ea01f5bddb6"
      },
      "execution_count": 31,
      "outputs": [
        {
          "output_type": "execute_result",
          "data": {
            "text/plain": [
              "Index(['mean_rainfall', 'mean_temp', 'actual_depth', 'actual_volume',\n",
              "       'actual_hydrometry'],\n",
              "      dtype='object')"
            ]
          },
          "metadata": {},
          "execution_count": 31
        }
      ]
    },
    {
      "cell_type": "code",
      "source": [
        "missing_values = df.isnull().sum()\n",
        "missing_values = missing_values[missing_values > 0]\n",
        "print(missing_values)"
      ],
      "metadata": {
        "id": "tUO-LnPCMFrL",
        "colab": {
          "base_uri": "https://localhost:8080/"
        },
        "outputId": "68362b29-a23a-404c-b251-6963aa4d4242"
      },
      "execution_count": 19,
      "outputs": [
        {
          "output_type": "stream",
          "name": "stdout",
          "text": [
            "Series([], dtype: int64)\n"
          ]
        }
      ]
    },
    {
      "cell_type": "code",
      "source": [
        "print(\"Total duplicate rows:\", df.duplicated().sum())"
      ],
      "metadata": {
        "colab": {
          "base_uri": "https://localhost:8080/"
        },
        "id": "ya1vmWwNRQqd",
        "outputId": "db173847-e052-4822-e360-c69c50615710"
      },
      "execution_count": 32,
      "outputs": [
        {
          "output_type": "stream",
          "name": "stdout",
          "text": [
            "Total duplicate rows: 0\n"
          ]
        }
      ]
    },
    {
      "cell_type": "code",
      "source": [
        "df.index.to_series().diff().value_counts()"
      ],
      "metadata": {
        "colab": {
          "base_uri": "https://localhost:8080/",
          "height": 366
        },
        "id": "y3o68TsERRA3",
        "outputId": "646ca078-4896-44c1-fd27-fb6cba8e275f"
      },
      "execution_count": 33,
      "outputs": [
        {
          "output_type": "execute_result",
          "data": {
            "text/plain": [
              "date\n",
              "1 days     8131\n",
              "3 days        8\n",
              "7 days        6\n",
              "26 days       3\n",
              "25 days       2\n",
              "4 days        1\n",
              "23 days       1\n",
              "20 days       1\n",
              "Name: count, dtype: int64"
            ],
            "text/html": [
              "<div>\n",
              "<style scoped>\n",
              "    .dataframe tbody tr th:only-of-type {\n",
              "        vertical-align: middle;\n",
              "    }\n",
              "\n",
              "    .dataframe tbody tr th {\n",
              "        vertical-align: top;\n",
              "    }\n",
              "\n",
              "    .dataframe thead th {\n",
              "        text-align: right;\n",
              "    }\n",
              "</style>\n",
              "<table border=\"1\" class=\"dataframe\">\n",
              "  <thead>\n",
              "    <tr style=\"text-align: right;\">\n",
              "      <th></th>\n",
              "      <th>count</th>\n",
              "    </tr>\n",
              "    <tr>\n",
              "      <th>date</th>\n",
              "      <th></th>\n",
              "    </tr>\n",
              "  </thead>\n",
              "  <tbody>\n",
              "    <tr>\n",
              "      <th>1 days</th>\n",
              "      <td>8131</td>\n",
              "    </tr>\n",
              "    <tr>\n",
              "      <th>3 days</th>\n",
              "      <td>8</td>\n",
              "    </tr>\n",
              "    <tr>\n",
              "      <th>7 days</th>\n",
              "      <td>6</td>\n",
              "    </tr>\n",
              "    <tr>\n",
              "      <th>26 days</th>\n",
              "      <td>3</td>\n",
              "    </tr>\n",
              "    <tr>\n",
              "      <th>25 days</th>\n",
              "      <td>2</td>\n",
              "    </tr>\n",
              "    <tr>\n",
              "      <th>4 days</th>\n",
              "      <td>1</td>\n",
              "    </tr>\n",
              "    <tr>\n",
              "      <th>23 days</th>\n",
              "      <td>1</td>\n",
              "    </tr>\n",
              "    <tr>\n",
              "      <th>20 days</th>\n",
              "      <td>1</td>\n",
              "    </tr>\n",
              "  </tbody>\n",
              "</table>\n",
              "</div><br><label><b>dtype:</b> int64</label>"
            ]
          },
          "metadata": {},
          "execution_count": 33
        }
      ]
    },
    {
      "cell_type": "markdown",
      "source": [
        "8131 records occur at exactly 1-day intervals ==> dataset is primarily daily\n",
        "\n",
        "Total anomalies: 23 rows\n",
        "\n",
        "    Risk for Model Accuracy\n",
        "\n",
        "    Models like ARIMA, Prophet, LSTM require uniform time intervals\n",
        "\n",
        "    Gaps can lead to:\n",
        "\n",
        "    Distorted trend/seasonality analysis\n",
        "\n",
        "    Reduced prediction accuracy\n",
        "\n",
        "    Misleading results if left uncorrected\n",
        "\n",
        "\n"
      ],
      "metadata": {
        "id": "xdcVH9z1SoEC"
      }
    },
    {
      "cell_type": "code",
      "source": [
        "time_deltas = df.index.to_series().diff().value_counts().sort_index()\n",
        "delta_days = time_deltas.index.days\n",
        "counts = time_deltas.values\n",
        "\n",
        "plt.figure(figsize=(10, 6))\n",
        "bars = plt.bar(delta_days, counts, color='crimson')\n",
        "plt.title('Frequency of Time Intervals in Dataset', fontsize=14, weight='bold')\n",
        "plt.xlabel('Time Interval (Days)', fontsize=12)\n",
        "plt.ylabel('Count of Occurrences', fontsize=12)\n",
        "plt.xticks(delta_days)\n",
        "\n",
        "for i in range(len(delta_days)):\n",
        "    plt.text(delta_days[i], counts[i] + 0.5, str(counts[i]),\n",
        "             ha='center', va='bottom', fontsize=10)\n",
        "\n",
        "plt.grid(axis='y', linestyle='--', alpha=0.7)\n",
        "plt.tight_layout()\n",
        "plt.show()\n"
      ],
      "metadata": {
        "colab": {
          "base_uri": "https://localhost:8080/",
          "height": 600
        },
        "id": "oz3d8ITIXQXN",
        "outputId": "d3ef88ff-48db-4df6-9aa0-402e645596ec"
      },
      "execution_count": 39,
      "outputs": [
        {
          "output_type": "display_data",
          "data": {
            "text/plain": [
              "<Figure size 1000x600 with 1 Axes>"
            ],
            "image/png": "[encoded data removed]"
          },
          "metadata": {}
        }
      ]
    }
  ]
}